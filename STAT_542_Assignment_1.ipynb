{
  "nbformat": 4,
  "nbformat_minor": 0,
  "metadata": {
    "colab": {
      "provenance": []
    },
    "kernelspec": {
      "name": "python3",
      "display_name": "Python 3"
    },
    "language_info": {
      "name": "python"
    }
  },
  "cells": [
    {
      "cell_type": "markdown",
      "source": [
        "# Coding Assignment 1 - STAT 542\n",
        "\n",
        "**Contributors:**\n",
        "\n",
        "\n",
        "\n",
        "Mingchen Du - mdu10\n",
        "\n",
        "Amarthya Kuchana - kuchana2\n",
        "\n",
        "**Program**: MS in Statistics\n",
        "\n",
        "The contribution is equal from both the team members. To be specific, Amarthya Kuchana worked on the code drafts where as Mingchen Du reviewed the content and has drawn insights from the code."
      ],
      "metadata": {
        "id": "uVpUMdUre3_-"
      }
    },
    {
      "cell_type": "code",
      "execution_count": 106,
      "metadata": {
        "id": "73gw4-lDZP4E"
      },
      "outputs": [],
      "source": [
        "import numpy as np\n",
        "import random\n",
        "import matplotlib.pyplot as plt\n",
        "from sklearn.neighbors import KNeighborsClassifier\n",
        "from sklearn.metrics import accuracy_score\n",
        "from sklearn.model_selection import KFold\n",
        "from sklearn.metrics import confusion_matrix\n",
        "from scipy.stats import mode\n",
        "import math"
      ]
    },
    {
      "cell_type": "markdown",
      "source": [
        "\n",
        "### **Part 1: Generate Data**"
      ],
      "metadata": {
        "id": "mUWXxo8thaa1"
      }
    },
    {
      "cell_type": "markdown",
      "source": [
        "1. Generate 20 centers"
      ],
      "metadata": {
        "id": "aPP_OSWi9kq9"
      }
    },
    {
      "cell_type": "markdown",
      "source": [
        "Mean Structure:\n",
        "\n",
        "\\begin{pmatrix}\n",
        "0 & 2 \\\\\n",
        "2 & 0\n",
        "\\end{pmatrix}\n",
        "\n",
        "Covariance Structure:\n",
        "\n",
        "\\begin{pmatrix}\n",
        "1 & 0 \\\\\n",
        "0 & 1\n",
        "\\end{pmatrix}\n",
        "\n"
      ],
      "metadata": {
        "id": "XcDEdSLcRJ1P"
      }
    },
    {
      "cell_type": "code",
      "source": [
        "np.random.seed(669420675)\n",
        "\n",
        "mean_0 = [0, 2]\n",
        "mean_1 = [2,0]\n",
        "\n",
        "# Covariance matrix\n",
        "cov = [[1, 0],\n",
        "       [0, 1]]\n",
        "\n",
        "# Number of samples\n",
        "n_samples = 10\n",
        "\n",
        "# Generating centers for each class\n",
        "class_0 = np.random.multivariate_normal(mean_0, cov, n_samples)\n",
        "class_1 = np.random.multivariate_normal(mean_1, cov, n_samples)"
      ],
      "metadata": {
        "id": "bA_Um8Ycj34e"
      },
      "execution_count": 107,
      "outputs": []
    },
    {
      "cell_type": "markdown",
      "source": [
        "2. Given the 20 centers, generate the training samples and test samples\n"
      ],
      "metadata": {
        "id": "rYeWVja_9yfh"
      }
    },
    {
      "cell_type": "code",
      "source": [
        "#Function to generate training and testing sample\n",
        "def generate_class_samples(mean_array,size,label):\n",
        "\n",
        "  label_column = label*np.ones((size*10,1),dtype = np.int8)\n",
        "\n",
        "  s_square = 1/5\n",
        "  cov_matrix = [[s_square, 0],[0, s_square]]\n",
        "  samples_array = []\n",
        "\n",
        "  for k in range(10):\n",
        "    samples_array.append(np.random.multivariate_normal(mean_array[k],cov = cov_matrix, size = size))\n",
        "  result = np.vstack(samples_array)\n",
        "  return np.hstack((result,label_column))"
      ],
      "metadata": {
        "id": "_onzKMz3h55F"
      },
      "execution_count": 108,
      "outputs": []
    },
    {
      "cell_type": "code",
      "source": [
        "#Train and Test Samples\n",
        "class1_train_samples = generate_class_samples(class_1,10,1)\n",
        "class0_train_samples = generate_class_samples(class_0,10,0)\n",
        "\n",
        "class1_test_samples = generate_class_samples(class_1,500,1)\n",
        "class0_test_samples = generate_class_samples(class_0,500,0)"
      ],
      "metadata": {
        "id": "s0O2IFdDmKFw"
      },
      "execution_count": 109,
      "outputs": []
    },
    {
      "cell_type": "markdown",
      "source": [
        "3. Produce a scatter plot of the training data"
      ],
      "metadata": {
        "id": "eiLKyQqI_vwW"
      }
    },
    {
      "cell_type": "code",
      "source": [
        "#Scatter plot\n",
        "\n",
        "class1X = class_1[:,0]\n",
        "class1Y = class_1[:,1]\n",
        "\n",
        "class0X = class_0[:,0]\n",
        "class0Y = class_0[:,1]\n",
        "\n",
        "class1_trainX = class1_train_samples[:,0]\n",
        "class1_trainY = class1_train_samples[:,1]\n",
        "\n",
        "class0_trainX = class0_train_samples[:,0]\n",
        "class0_trainY = class0_train_samples[:,1]\n",
        "\n",
        "\n",
        "plt.figure(figsize=(8, 8))\n",
        "plt.scatter(class1X,class1Y, color = \"blue\",marker='*', s=200, label='Class 1 Center')\n",
        "plt.scatter(class0X,class0Y, color = \"red\",marker='*', s=200, label='Class 0 Center')\n",
        "\n",
        "plt.scatter(class1_trainX,class1_trainY, color = \"blue\", alpha=0.5, label='Class 1')\n",
        "plt.scatter(class0_trainX,class0_trainY, color = \"red\", alpha=0.5, label='Class 0')\n",
        "plt.legend()\n",
        "plt.xlabel('Feature 1')\n",
        "plt.ylabel('Feature 2')\n",
        "plt.title('Scatter plot of training data with centers')\n",
        "plt.show()\n"
      ],
      "metadata": {
        "colab": {
          "base_uri": "https://localhost:8080/",
          "height": 718
        },
        "id": "onECz1InneSu",
        "outputId": "76838881-f01c-4f2f-81cf-6b4d4c506e80"
      },
      "execution_count": 110,
      "outputs": [
        {
          "output_type": "display_data",
          "data": {
            "text/plain": [
              "<Figure size 800x800 with 1 Axes>"
            ],
            "image/png": "[encoded data removed]"
          },
          "metadata": {}
        }
      ]
    },
    {
      "cell_type": "markdown",
      "source": [
        "**Part2: KNN**"
      ],
      "metadata": {
        "id": "j81QW4oMGhtT"
      }
    },
    {
      "cell_type": "markdown",
      "source": [
        "1. Build KNN from Scratch\n",
        "\n"
      ],
      "metadata": {
        "id": "Y61IwsFOGlmN"
      }
    },
    {
      "cell_type": "code",
      "source": [
        "training_data = np.vstack((class0_train_samples,class1_train_samples))\n",
        "test_data = np.vstack((class0_test_samples,class1_test_samples))"
      ],
      "metadata": {
        "id": "TTfCV3xjTA3m"
      },
      "execution_count": 111,
      "outputs": []
    },
    {
      "cell_type": "code",
      "source": [
        "#KNN from scratch function\n",
        "def knn_scratch(training_data, testing_data, k):\n",
        "    # Extract feature vectors and labels from the training data\n",
        "    X_train = training_data[:, :-1]\n",
        "    y_train = training_data[:, -1]\n",
        "\n",
        "    # Extract feature vectors from the testing data\n",
        "    X_test = testing_data[:, :-1]\n",
        "\n",
        "    # Calculate the squared differences\n",
        "    # Adding an extra dimension to X_train and X_test for broadcasting\n",
        "    # Calculating the Euclidean distance but without taking the square root to make it faster\n",
        "    # We only need it for ranking purposes\n",
        "\n",
        "    squared_diffs = np.sum((X_train[:, np.newaxis, :] - X_test[np.newaxis, :, :]) ** 2, axis=-1)\n",
        "\n",
        "    #print(squared_diffs)\n",
        "\n",
        "    # Get the indices of k smallest distances for each test point\n",
        "    k_nearest_indices = np.argpartition(squared_diffs, k, axis=0)[:k, :]\n",
        "\n",
        "    #print(k_nearest_indices)\n",
        "\n",
        "    # Get the k smallest distance labels for each test point\n",
        "    k_nearest_labels = y_train[k_nearest_indices]\n",
        "\n",
        "    # Calculate the predicted labels for the test set by taking the majority vote\n",
        "    predicted_labels = np.mean(k_nearest_labels, axis=0)\n",
        "\n",
        "    # Convert probabilities to binary labels 0 or 1\n",
        "    predicted_labels = (predicted_labels >= 0.5).astype(int)\n",
        "\n",
        "    # Find the indices where predicted_labels is exactly 0.5\n",
        "    indices = np.where(predicted_labels == 0.5)[0]\n",
        "\n",
        "    # Assign a random value of 0 or 1 to these indices to tackle the voting tie\n",
        "    random_class = np.random.randint(0, 2, size=len(indices))\n",
        "    predicted_labels[indices] = random_class\n",
        "\n",
        "    return predicted_labels"
      ],
      "metadata": {
        "id": "hC0yYGINSdWX"
      },
      "execution_count": 112,
      "outputs": []
    },
    {
      "cell_type": "markdown",
      "source": [
        "2. In case of a voting tie, the algorithm randomly predicts one of the two classes.\n",
        "In the case of distance tie, since we are using 'np.argpartition' where the sorting is not guaranteed after k values, we can take the calculation as a random selection."
      ],
      "metadata": {
        "id": "zB8CQ83GcB9B"
      }
    },
    {
      "cell_type": "markdown",
      "source": [
        "3. Test our KNN function with the training/test data you just generated when K = 1, 3, 5; and compare your results with sklearn.neighbors in Python."
      ],
      "metadata": {
        "id": "yZTw1xImG0kl"
      }
    },
    {
      "cell_type": "code",
      "source": [
        "# Testing for k = 1, 3, 5\n",
        "k_values = [1, 3, 5]\n",
        "labels = [0,1]\n",
        "for k in k_values:\n",
        "    # Predictions from sklearn\n",
        "    knn = KNeighborsClassifier(n_neighbors=k)\n",
        "    knn.fit(training_data[:,0:2], training_data[:,2])\n",
        "    predictions_sklearn = knn.predict(test_data[:,0:2])\n",
        "    print(f\"Confusion matrix for k={k} (sklearn):\\n\", confusion_matrix(test_data[:,2], predictions_sklearn,labels = labels))\n",
        "\n",
        "    # Prediction from KNN Scratch\n",
        "    predictions_knn_scratch = knn_scratch(training_data,test_data,k)\n",
        "    print(f\"Confusion matrix for k={k} (knn scratch):\\n\", confusion_matrix(test_data[:,2], predictions_knn_scratch,labels = labels))"
      ],
      "metadata": {
        "colab": {
          "base_uri": "https://localhost:8080/"
        },
        "id": "bqCwf6KOG2Go",
        "outputId": "b5b01be2-9040-4edd-ef33-40f5b75f85d4"
      },
      "execution_count": 113,
      "outputs": [
        {
          "output_type": "stream",
          "name": "stdout",
          "text": [
            "Confusion matrix for k=1 (sklearn):\n",
            " [[4188  812]\n",
            " [ 802 4198]]\n",
            "Confusion matrix for k=1 (knn scratch):\n",
            " [[4188  812]\n",
            " [ 802 4198]]\n",
            "Confusion matrix for k=3 (sklearn):\n",
            " [[4343  657]\n",
            " [ 711 4289]]\n",
            "Confusion matrix for k=3 (knn scratch):\n",
            " [[4343  657]\n",
            " [ 711 4289]]\n",
            "Confusion matrix for k=5 (sklearn):\n",
            " [[4440  560]\n",
            " [ 648 4352]]\n",
            "Confusion matrix for k=5 (knn scratch):\n",
            " [[4440  560]\n",
            " [ 648 4352]]\n"
          ]
        }
      ]
    },
    {
      "cell_type": "markdown",
      "source": [
        "Our implementation of KNN match precisely with the Python in-built sklearn library from the above confusion matrices."
      ],
      "metadata": {
        "id": "qkj0S33eb0ov"
      }
    },
    {
      "cell_type": "markdown",
      "source": [
        "**Part3: cvKNN**"
      ],
      "metadata": {
        "id": "flJItB0w_LoI"
      }
    },
    {
      "cell_type": "markdown",
      "source": [
        "1. Implement KNN classification with K chosen by 10-fold cross-validation from scratch"
      ],
      "metadata": {
        "id": "hAzzm4orAu9T"
      }
    },
    {
      "cell_type": "code",
      "source": [
        "np.random.seed(673)\n",
        "shuffled_training_data = np.random.permutation(training_data)"
      ],
      "metadata": {
        "id": "U03NTbPwx_jZ"
      },
      "execution_count": 114,
      "outputs": []
    },
    {
      "cell_type": "markdown",
      "source": [
        "Set the candidates K value from 1 to 180. Because the sample size is 200, in 10-fold cross validation, the original data will be partitioned into 10 subsets with size of 20. Then, the new training data is created by subtracting the subset from the original data. Therefore, the size of the new training data will be 180, so it does not make sense if K exceed 180."
      ],
      "metadata": {
        "id": "44_SeZOIKKGw"
      }
    },
    {
      "cell_type": "code",
      "source": [
        "#Function to implement 10-fold cross validation\n",
        "def cvKNN(shuffled_training_data):\n",
        "\n",
        "  K_arr = list(range(1,181))\n",
        "\n",
        "  CV_error_across_Ks = []\n",
        "\n",
        "  for K in K_arr:\n",
        "\n",
        "    CV_error_for_each_K = 0\n",
        "\n",
        "    for i in range(10):\n",
        "      fold_starting_index = 20*i\n",
        "\n",
        "      fold_ending_index = fold_starting_index + 20\n",
        "\n",
        "      test_data_fold = shuffled_training_data[fold_starting_index:fold_ending_index,:]\n",
        "\n",
        "      training_index_part1 = shuffled_training_data[0:fold_starting_index,:]\n",
        "      training_index_part2 = shuffled_training_data[fold_ending_index:,:]\n",
        "\n",
        "      training_data_fold = np.vstack((training_index_part1,training_index_part2))\n",
        "\n",
        "      knn = KNeighborsClassifier(n_neighbors=K)\n",
        "\n",
        "      X_train = training_data_fold[:,0:2]\n",
        "      y_train = training_data_fold[:,2]\n",
        "\n",
        "      X_test = test_data_fold[:,0:2]\n",
        "      y_test = test_data_fold[:,2]\n",
        "\n",
        "      knn.fit(X_train, y_train)\n",
        "\n",
        "      y_pred = knn.predict(X_test)\n",
        "\n",
        "      accuracy = accuracy_score(y_test, y_pred)\n",
        "\n",
        "      CV_error_for_each_K += (1-accuracy)*100\n",
        "\n",
        "    CV_error = CV_error_for_each_K/10\n",
        "\n",
        "    CV_error_across_Ks.append(CV_error)\n",
        "\n",
        "  min_error = 10000\n",
        "  for i in range(len(CV_error_across_Ks)):\n",
        "    if CV_error_across_Ks[i] <= min_error:\n",
        "      #We have put <= instead of < because we want to go for a simpler model (higher K) when the errors are matching\n",
        "      min_error = CV_error_across_Ks[i]\n",
        "      min_index = i\n",
        "  return min_error,min_index\n"
      ],
      "metadata": {
        "id": "N7NJSXiMnPEk"
      },
      "execution_count": 115,
      "outputs": []
    },
    {
      "cell_type": "markdown",
      "source": [
        "In the for loop in the end of the function, in the condition of choosing the minimum error, We put <= instead of < because we want to go for a simpler model (higher K) when the errors are matching."
      ],
      "metadata": {
        "id": "zIVATGRpdLLV"
      }
    },
    {
      "cell_type": "code",
      "source": [
        "min_error_opt_K,opt_K = cvKNN(shuffled_training_data)\n",
        "print(f\"Optimum K is {opt_K}\")"
      ],
      "metadata": {
        "colab": {
          "base_uri": "https://localhost:8080/"
        },
        "id": "Zs0Crh3GxG9g",
        "outputId": "23766a45-20a2-48c9-d709-414eeaf99d97"
      },
      "execution_count": 116,
      "outputs": [
        {
          "output_type": "stream",
          "name": "stdout",
          "text": [
            "Optimum K is 65\n"
          ]
        }
      ]
    },
    {
      "cell_type": "markdown",
      "source": [
        "2. Test the function with our training data and Generating confusion matrix when the optimum K is used for test dataset.\n",
        "\n"
      ],
      "metadata": {
        "id": "YCuExiMJBGKO"
      }
    },
    {
      "cell_type": "code",
      "source": [
        "knn = KNeighborsClassifier(n_neighbors=opt_K)\n",
        "\n",
        "knn.fit(training_data[:,0:2], training_data[:,2])\n",
        "y_pred = knn.predict(test_data[:,0:2])\n",
        "\n",
        "cm = confusion_matrix(test_data[:,2], y_pred, labels = labels)\n",
        "print(f\"Confusion matrix for Optimum K={opt_K} (KNN with 10-fold Cross validation):\\n\", cm)"
      ],
      "metadata": {
        "colab": {
          "base_uri": "https://localhost:8080/"
        },
        "id": "xa5f981qyT2j",
        "outputId": "6968cc92-3c76-4e8a-a36e-fe615c189a3b"
      },
      "execution_count": 117,
      "outputs": [
        {
          "output_type": "stream",
          "name": "stdout",
          "text": [
            "Confusion matrix for Optimum K=65 (KNN with 10-fold Cross validation):\n",
            " [[4313  687]\n",
            " [ 557 4443]]\n"
          ]
        }
      ]
    },
    {
      "cell_type": "markdown",
      "source": [
        "**PART 4: Bayes Rule**"
      ],
      "metadata": {
        "id": "DcOgLzDqAgW8"
      }
    },
    {
      "cell_type": "markdown",
      "source": [
        "1. Implement Bayes Rule, and then generate the confusion matrix"
      ],
      "metadata": {
        "id": "pZqMAPf8DqC5"
      }
    },
    {
      "cell_type": "code",
      "source": [
        "#Function to implement Bayes Rule; calculating the ratio of probabilities\n",
        "def bayes_rule(test_data):\n",
        "\n",
        "  labels = [0,1]\n",
        "\n",
        "  test_X = test_data[:,0:2]\n",
        "  test_Y = test_data[:,2]\n",
        "\n",
        "  num_stack = np.empty((test_X.shape[0],0))\n",
        "  den_stack = np.empty((test_X.shape[0],0))\n",
        "\n",
        "  for i in range(10):\n",
        "    s_square = 1/5\n",
        "    distance_square_num = np.sum((test_X - class_1[i,:])**2,axis = 1)\n",
        "    numerator = pow(math.exp(1),-distance_square_num/(2*s_square))\n",
        "\n",
        "    distance_square_den = np.sum((test_X - class_0[i,:])**2,axis = 1)\n",
        "    denominator = pow(math.exp(1),-distance_square_den/(2*s_square))\n",
        "\n",
        "    numerator = numerator.reshape(-1,1)\n",
        "    denominator = denominator.reshape(-1,1)\n",
        "\n",
        "    num_stack = np.hstack((num_stack,numerator))\n",
        "    den_stack = np.hstack((den_stack,denominator))\n",
        "\n",
        "  class1_probability = np.sum(num_stack,axis = 1)\n",
        "  class0_probability = np.sum(den_stack,axis = 1)\n",
        "\n",
        "  probability_ratio = class1_probability/class0_probability\n",
        "\n",
        "  y_pred_bayes = (probability_ratio > 1).astype(int)\n",
        "  cm = confusion_matrix(test_Y, y_pred_bayes,labels = labels)\n",
        "\n",
        "  test_error = 1 - np.trace(cm) / np.sum(cm)\n",
        "\n",
        "  return cm,test_error"
      ],
      "metadata": {
        "id": "RENVTLn1PGw6"
      },
      "execution_count": 118,
      "outputs": []
    },
    {
      "cell_type": "markdown",
      "source": [
        "2. Testing the above implementation on the Test Data"
      ],
      "metadata": {
        "id": "DpxRsAMkec9K"
      }
    },
    {
      "cell_type": "code",
      "source": [
        "Confusion_matrix_Bayes,_ = bayes_rule(test_data)\n",
        "print(f\"Confusion matrix using Bayes Rule :\\n\", Confusion_matrix_Bayes)"
      ],
      "metadata": {
        "colab": {
          "base_uri": "https://localhost:8080/"
        },
        "id": "Yovj2M25eazB",
        "outputId": "1ebf3a1e-ab20-4835-ec34-39d7f86b0672"
      },
      "execution_count": 119,
      "outputs": [
        {
          "output_type": "stream",
          "name": "stdout",
          "text": [
            "Confusion matrix using Bayes Rule :\n",
            " [[4655  345]\n",
            " [ 711 4289]]\n"
          ]
        }
      ]
    },
    {
      "cell_type": "markdown",
      "source": [
        "**PART 5: Simulation Study**"
      ],
      "metadata": {
        "id": "07QHJvzYMmMm"
      }
    },
    {
      "cell_type": "code",
      "source": [
        "KNN7_test_error = []\n",
        "CVKNN_test_error = []\n",
        "Bayes_rule_test_error = []\n",
        "\n",
        "for i in range(50):\n",
        "  labels = [0,1]\n",
        "  class1_train_samples = generate_class_samples(class_1,10,1)\n",
        "  class0_train_samples = generate_class_samples(class_0,10,0)\n",
        "\n",
        "  class1_test_samples = generate_class_samples(class_1,500,1)\n",
        "  class0_test_samples = generate_class_samples(class_0,500,0)\n",
        "\n",
        "  training_data_simulation_study = np.vstack((class0_train_samples,class1_train_samples))\n",
        "  test_data_simulation_study = np.vstack((class0_test_samples,class1_test_samples))\n",
        "\n",
        "  #Part 5.1 - KNN where k is 7\n",
        "  knn = KNeighborsClassifier(n_neighbors=7)\n",
        "\n",
        "  knn.fit(training_data_simulation_study[:,0:2], training_data_simulation_study[:,2])\n",
        "  y_pred = knn.predict(test_data_simulation_study[:,0:2])\n",
        "\n",
        "  cm = confusion_matrix(test_data_simulation_study[:,2], y_pred,labels = labels)\n",
        "  test_error_KNN7 = 1 - np.trace(cm) / np.sum(cm)\n",
        "  KNN7_test_error.append(test_error_KNN7)\n",
        "\n",
        "  #Part 5.2 - KNN where K chosen by 10-fold Cross Validation\n",
        "\n",
        "  shuffled_training_data_simulation_study = np.random.permutation(training_data_simulation_study)\n",
        "  min_error_opt_K,opt_K = cvKNN(shuffled_training_data_simulation_study)\n",
        "\n",
        "  knn = KNeighborsClassifier(n_neighbors=opt_K)\n",
        "\n",
        "  knn.fit(training_data_simulation_study[:,0:2], training_data_simulation_study[:,2])\n",
        "  y_pred = knn.predict(test_data_simulation_study[:,0:2])\n",
        "\n",
        "  cm = confusion_matrix(test_data_simulation_study[:,2], y_pred,labels = labels)\n",
        "  test_error_CVKNN = 1 - np.trace(cm) / np.sum(cm)\n",
        "  CVKNN_test_error.append(test_error_CVKNN)\n",
        "\n",
        "  #Part 5.3 - Bayes rule\n",
        "\n",
        "  _,test_error_bayes = bayes_rule(test_data_simulation_study)\n",
        "  Bayes_rule_test_error.append(test_error_bayes)\n",
        "\n",
        "  print(f\"Simulation : {i}\")\n",
        "\n",
        "#BOX PLOT\n",
        "\n",
        "box_plot = [KNN7_test_error,CVKNN_test_error,Bayes_rule_test_error]\n",
        "\n",
        "# Create the boxplot\n",
        "plt.boxplot(box_plot)\n",
        "\n",
        "# Add labels and title\n",
        "plt.xticks([1, 2, 3], ['KNN7','CVKNN','Bayes_Rule'])\n",
        "plt.title('Box plot of test error')\n",
        "plt.ylabel('Test Error distribution')\n",
        "plt.xlabel('Different methods')\n",
        "\n",
        "# Show the plot\n",
        "plt.show()"
      ],
      "metadata": {
        "colab": {
          "base_uri": "https://localhost:8080/",
          "height": 1000
        },
        "id": "FSzdFWUMMuOx",
        "outputId": "10427fd5-9b86-403b-f90b-1304f2edc2b4"
      },
      "execution_count": 120,
      "outputs": [
        {
          "output_type": "stream",
          "name": "stdout",
          "text": [
            "Simulation : 0\n",
            "Simulation : 1\n",
            "Simulation : 2\n",
            "Simulation : 3\n",
            "Simulation : 4\n",
            "Simulation : 5\n",
            "Simulation : 6\n",
            "Simulation : 7\n",
            "Simulation : 8\n",
            "Simulation : 9\n",
            "Simulation : 10\n",
            "Simulation : 11\n",
            "Simulation : 12\n",
            "Simulation : 13\n",
            "Simulation : 14\n",
            "Simulation : 15\n",
            "Simulation : 16\n",
            "Simulation : 17\n",
            "Simulation : 18\n",
            "Simulation : 19\n",
            "Simulation : 20\n",
            "Simulation : 21\n",
            "Simulation : 22\n",
            "Simulation : 23\n",
            "Simulation : 24\n",
            "Simulation : 25\n",
            "Simulation : 26\n",
            "Simulation : 27\n",
            "Simulation : 28\n",
            "Simulation : 29\n",
            "Simulation : 30\n",
            "Simulation : 31\n",
            "Simulation : 32\n",
            "Simulation : 33\n",
            "Simulation : 34\n",
            "Simulation : 35\n",
            "Simulation : 36\n",
            "Simulation : 37\n",
            "Simulation : 38\n",
            "Simulation : 39\n",
            "Simulation : 40\n",
            "Simulation : 41\n",
            "Simulation : 42\n",
            "Simulation : 43\n",
            "Simulation : 44\n",
            "Simulation : 45\n",
            "Simulation : 46\n",
            "Simulation : 47\n",
            "Simulation : 48\n",
            "Simulation : 49\n"
          ]
        },
        {
          "output_type": "display_data",
          "data": {
            "text/plain": [
              "<Figure size 640x480 with 1 Axes>"
            ],
            "image/png": "[encoded data removed]"
          },
          "metadata": {}
        }
      ]
    },
    {
      "cell_type": "code",
      "source": [
        "#Reporting median, min, max, 25% quantile, 75% quantile\n",
        "\n",
        "#KNN7\n",
        "print(\"For KNN7: \\n\")\n",
        "print(f\"Minimum of the test errors is {round(min(KNN7_test_error),4)}\\n\")\n",
        "print(f\"Maximum of the test errors is {round(max(KNN7_test_error),4)}\\n\")\n",
        "print(f\"Median of the test errors is {round(np.median(KNN7_test_error),4)}\\n\")\n",
        "print(f\"25% quantile of the test errors is {round(np.percentile(KNN7_test_error, 25),4)}\\n\")\n",
        "print(f\"75% quantile of the test errors is {round(np.percentile(KNN7_test_error, 75),4)}\\n\")\n",
        "\n",
        "#CVKNN\n",
        "print(\"For CVKNN: \\n\")\n",
        "print(f\"Minimum of the test errors is {round(min(CVKNN_test_error),4)}\\n\")\n",
        "print(f\"Maximum of the test errors is {round(max(CVKNN_test_error),4)}\\n\")\n",
        "print(f\"Median of the test errors is {round(np.median(CVKNN_test_error),4)}\\n\")\n",
        "print(f\"25% quantile of the test errors is {round(np.percentile(CVKNN_test_error, 25),4)}\\n\")\n",
        "print(f\"75% quantile of the test errors is {round(np.percentile(CVKNN_test_error, 75),4)}\\n\")\n",
        "\n",
        "#Bayes_Rule\n",
        "print(\"For Bayes Rule: \\n\")\n",
        "print(f\"Minimum of the test errors is {round(min(Bayes_rule_test_error),4)}\\n\")\n",
        "print(f\"Maximum of the test errors is {round(max(Bayes_rule_test_error),4)}\\n\")\n",
        "print(f\"Median of the test errors is {round(np.median(Bayes_rule_test_error),4)}\\n\")\n",
        "print(f\"25% quantile of the test errors is {round(np.percentile(Bayes_rule_test_error, 25),4)}\\n\")\n",
        "print(f\"75% quantile of the test errors is {round(np.percentile(Bayes_rule_test_error, 75),4)}\\n\")\n"
      ],
      "metadata": {
        "colab": {
          "base_uri": "https://localhost:8080/"
        },
        "id": "kQ_joEpxhwvs",
        "outputId": "7f54f3a9-48a2-4a58-c5fa-8923a232386f"
      },
      "execution_count": 121,
      "outputs": [
        {
          "output_type": "stream",
          "name": "stdout",
          "text": [
            "For KNN7: \n",
            "\n",
            "Minimum of the test errors is 0.1065\n",
            "\n",
            "Maximum of the test errors is 0.1318\n",
            "\n",
            "Median of the test errors is 0.1172\n",
            "\n",
            "25% quantile of the test errors is 0.1131\n",
            "\n",
            "75% quantile of the test errors is 0.1207\n",
            "\n",
            "For CVKNN: \n",
            "\n",
            "Minimum of the test errors is 0.1086\n",
            "\n",
            "Maximum of the test errors is 0.1496\n",
            "\n",
            "Median of the test errors is 0.117\n",
            "\n",
            "25% quantile of the test errors is 0.1124\n",
            "\n",
            "75% quantile of the test errors is 0.1211\n",
            "\n",
            "For Bayes Rule: \n",
            "\n",
            "Minimum of the test errors is 0.101\n",
            "\n",
            "Maximum of the test errors is 0.1086\n",
            "\n",
            "Median of the test errors is 0.1042\n",
            "\n",
            "25% quantile of the test errors is 0.1028\n",
            "\n",
            "75% quantile of the test errors is 0.1057\n",
            "\n"
          ]
        }
      ]
    }
  ]
}